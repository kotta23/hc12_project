{
 "cells": [
  {
   "cell_type": "markdown",
   "metadata": {},
   "source": [
    "# Q-1 \n",
    "Write a program in Python that asks the user to enter their name and two numbers a and b and display the following \n",
    "\n",
    "1-their name with a welcome message!\n",
    "\n",
    "2- their sum: a + b.\n",
    "\n",
    "3-their maximum\n",
    "\n",
    "\n",
    "4-display  if these numbers is even or odd"
   ]
  },
  {
   "cell_type": "code",
   "execution_count": 18,
   "metadata": {},
   "outputs": [
    {
     "name": "stdout",
     "output_type": "stream",
     "text": [
      "please enter your name:mmm\n",
      "please enter 1st value:2\n",
      "please enter 2end value:3\n",
      "welcome mmm\n",
      "the sum of 2 , 3 is :5\n",
      "the maximum of 2,3is:3\n",
      "the number 2 is :een \n",
      "the number 3 is :odd \n"
     ]
    }
   ],
   "source": [
    "name = input('please enter your name:' )\n",
    "a = int(input('please enter 1st value:' ))\n",
    "b = int(input('please enter 2end value:' ))\n",
    "\n",
    "\n",
    "print(f'welcome {name}')\n",
    "print(f'the sum of {a} , {b} is :{a+b}')\n",
    "print(f'the maximum of {a},{b}is:{max(a,b)}')\n",
    "if a%2:\n",
    "    print(f'the number {a} is :odd ')\n",
    "\n",
    "    if b%2 :\n",
    "        print(f'the number {b} is :odd ')\n",
    "    else : \n",
    "        print(f'the number {b} is :even ')\n",
    "else :\n",
    "    print(f'the number {a} is :even ')\n",
    "    if b%2 :\n",
    "        print(f'the number {b} is :odd ')\n",
    "    else : \n",
    "        print(f'the number {b} is :even ')\n",
    "    \n",
    "    "
   ]
  },
  {
   "cell_type": "markdown",
   "metadata": {},
   "source": [
    "# Q-2 \n",
    "Write a program in Python language that asks the user to enter a string s  \n",
    "\n",
    "1-display him all the characters contained in this string.\n",
    "Example for s = \"Python\", the program displays the characters:\n",
    "    P\n",
    "    y\n",
    "    t\n",
    "    h\n",
    "    o\n",
    "    n\n",
    "\n",
    "2-the number of occurrences of each character in the string.\n",
    "\n",
    "3-exchange the first and last characters of a given string.\n"
   ]
  },
  {
   "cell_type": "code",
   "execution_count": 39,
   "metadata": {},
   "outputs": [
    {
     "name": "stdout",
     "output_type": "stream",
     "text": [
      "P\n",
      "number of count of the letter P is : 1\n",
      "y\n",
      "number of count of the letter y is : 1\n",
      "t\n",
      "number of count of the letter t is : 1\n",
      "h\n",
      "number of count of the letter h is : 1\n",
      "o\n",
      "number of count of the letter o is : 1\n",
      "n\n",
      "number of count of the letter n is : 1\n",
      "P n\n",
      "nythP\n"
     ]
    }
   ],
   "source": [
    "s = \"Python\"\n",
    "for i in s:\n",
    "    print(i )\n",
    "    print(f\"number of count of the letter {i} is :\",s.count(i))\n",
    "f = s[0]\n",
    "l = s[-1]\n",
    "s = l + s[1:-2]+f\n",
    "print(s)"
   ]
  },
  {
   "cell_type": "markdown",
   "metadata": {},
   "source": [
    "# Q-3\n",
    "Write a program in Python that lists the strings that make up the list \n",
    "l =[\"laptop\", \"iphone\", \"tablet\", \"printer\", \"Ipad\"]  \n",
    "\n",
    "1-get the length of each string.\n"
   ]
  },
  {
   "cell_type": "code",
   "execution_count": 43,
   "metadata": {},
   "outputs": [
    {
     "name": "stdout",
     "output_type": "stream",
     "text": [
      "laptop 6\n",
      "iphone 6\n",
      "tablet 6\n",
      "printer 7\n",
      "Ipad 4\n"
     ]
    }
   ],
   "source": [
    "l =[\"laptop\", \"iphone\", \"tablet\", \"printer\", \"Ipad\"]\n",
    "for i in l:\n",
    "    print(i,len(i))"
   ]
  },
  {
   "cell_type": "markdown",
   "metadata": {},
   "source": [
    "# Q-4\n",
    "Write a program that asks the user to open a file and return all words beginning with the letter a."
   ]
  },
  {
   "cell_type": "code",
   "execution_count": 46,
   "metadata": {},
   "outputs": [
    {
     "name": "stdout",
     "output_type": "stream",
     "text": [
      "The word :  a  begin with the letter 'a'\n",
      "The word :  asks  begin with the letter 'a'\n",
      "The word :  a  begin with the letter 'a'\n",
      "The word :  and  begin with the letter 'a'\n",
      "The word :  a  begin with the letter 'a'\n",
      "The word :  a  begin with the letter 'a'\n",
      "The word :  a  begin with the letter 'a'\n",
      "The word :  a  begin with the letter 'a'\n"
     ]
    }
   ],
   "source": [
    "f = open(\"file.txt\" , \"r+\")\n",
    "x= f.readlines()\n",
    "x = x[0].split()\n",
    "for i in x:\n",
    "    if i[0]==\"a\":\n",
    "        print(\"The word : \", i, \" begin with the letter 'a'\")"
   ]
  },
  {
   "cell_type": "markdown",
   "metadata": {},
   "source": [
    "# Q-5\n",
    "Write a Python program to count the Uppercase characters within a given string. Example if s = \"Python Programming\", the program must returns 2."
   ]
  },
  {
   "cell_type": "code",
   "execution_count": null,
   "metadata": {},
   "outputs": [],
   "source": [
    "s = \"Python Programming\"\n",
    "def count_word (s):\n",
    "    s = s.split()\n",
    "    cout = 0\n",
    "    for i in s :\n",
    "        if i.upper:\n",
    "            cout +=1\n",
    "    return cout\n",
    "\n",
    "print(count_word(s))"
   ]
  },
  {
   "cell_type": "markdown",
   "metadata": {},
   "source": [
    "# Q-6\n",
    "Write a Python program that extract the list of all urls from given a string s. Example if s = \"You can use google https://www.google.com or facebook https://www.facebook.com\" The algorithm returns the list"
   ]
  },
  {
   "cell_type": "code",
   "execution_count": null,
   "metadata": {},
   "outputs": [],
   "source": [
    "s = \"You can use google https://www.google.com or facebook https://www.facebook.com\" \n",
    "def start_with (s):\n",
    "    l=[]\n",
    "    s = s.split()\n",
    "    for i in s :\n",
    "        if i.startswith(\"http\"):\n",
    "            l.append(i)\n",
    "    return l\n",
    "print(start_with(s))"
   ]
  },
  {
   "cell_type": "markdown",
   "metadata": {},
   "source": [
    "# Q-7\n",
    "Write a Python program that creates from a keyboard-typed integer n, a dictionary whose keys are integers from 1 to n and key values are their squares. Example for n = 7 the dictionary will be of the form:\n",
    "{1: 1, 2: 4, 3: 9, 4:16, 5:25, 6:36, 7:49}"
   ]
  },
  {
   "cell_type": "code",
   "execution_count": null,
   "metadata": {},
   "outputs": [],
   "source": [
    "n = 7\n",
    "def dict_create (n):\n",
    "    dic = {}\n",
    "    for i in range(1,n+1):\n",
    "        dic[i]=i*i\n",
    "\n",
    "    return dic\n",
    "print(dict_create(n))"
   ]
  },
  {
   "cell_type": "markdown",
   "metadata": {},
   "source": [
    "# Q-8\n",
    "The following dictionary contains a student's math scores:\n",
    "scores = {'score1' : 16, 'score2' : 14, 'score3' : 17}\n",
    "update the notes dictionary by adding the average of scores."
   ]
  },
  {
   "cell_type": "code",
   "execution_count": null,
   "metadata": {},
   "outputs": [],
   "source": [
    "scores = {'score1' : 16, 'score2' : 14, 'score3' : 17}\n",
    "\n",
    "def upd (s):\n",
    "    sum = 0\n",
    "    for key,value in s.items():\n",
    "        sum = sum + value\n",
    "    d = {'average':sum/len(s)}\n",
    "    s.update(d)\n",
    "    return s\n",
    "print(upd(scores))"
   ]
  },
  {
   "cell_type": "markdown",
   "metadata": {},
   "source": [
    "# Q-9\n",
    "Write a function called digit_sum that takes a positive integer n as input and returns the sum of all that number's digits."
   ]
  },
  {
   "cell_type": "code",
   "execution_count": null,
   "metadata": {},
   "outputs": [],
   "source": [
    "x = input('enter your values')\n",
    "print(x)\n",
    "sum = 0\n",
    "if s.startswith('-'):\n",
    "    print('positive num only')\n",
    "else :\n",
    "    for i in x :\n",
    "        print(i,type(int(i)))\n",
    "        sum = sum +int(i)\n",
    "print(sum)"
   ]
  },
  {
   "cell_type": "markdown",
   "metadata": {},
   "source": [
    "# Q-10\n",
    "Write a function remove_duplicates that takes in a list and removes elements of the list that are the same.For example: remove_duplicates([1,1,2,2]) should return [1,2]."
   ]
  },
  {
   "cell_type": "code",
   "execution_count": null,
   "metadata": {},
   "outputs": [],
   "source": [
    "def remove_duplicates(l):\n",
    "    s = []\n",
    "    for i in l:\n",
    "        if i in s :\n",
    "            pass\n",
    "        else:\n",
    "            s.append(i)\n",
    "    return s\n",
    "\n",
    "print(remove_duplicates([1,1,2,2]))"
   ]
  }
 ],
 "metadata": {
  "kernelspec": {
   "display_name": "Python 3",
   "language": "python",
   "name": "python3"
  },
  "language_info": {
   "codemirror_mode": {
    "name": "ipython",
    "version": 3
   },
   "file_extension": ".py",
   "mimetype": "text/x-python",
   "name": "python",
   "nbconvert_exporter": "python",
   "pygments_lexer": "ipython3",
   "version": "3.8.5"
  }
 },
 "nbformat": 4,
 "nbformat_minor": 4
}
