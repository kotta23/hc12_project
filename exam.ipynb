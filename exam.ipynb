{
 "cells": [
  {
   "cell_type": "markdown",
   "metadata": {},
   "source": [
    "# Q-1 \n",
    "Write a program in Python that asks the user to enter their name and two numbers a and b and display the following \n",
    "\n",
    "1-their name with a welcome message!\n",
    "\n",
    "2- their sum: a + b.\n",
    "\n",
    "3-their maximum\n",
    "\n",
    "\n",
    "4-display  if these numbers is even or odd"
   ]
  },
  {
   "cell_type": "code",
   "execution_count": null,
   "metadata": {},
   "outputs": [],
   "source": []
  },
  {
   "cell_type": "markdown",
   "metadata": {},
   "source": [
    "# Q-2 \n",
    "Write a program in Python language that asks the user to enter a string s  \n",
    "\n",
    "1-display him all the characters contained in this string.\n",
    "Example for s = \"Python\", the program displays the characters:\n",
    "    P\n",
    "    y\n",
    "    t\n",
    "    h\n",
    "    o\n",
    "    n\n",
    "\n",
    "2-the number of occurrences of each character in the string.\n",
    "\n",
    "3-exchange the first and last characters of a given string.\n"
   ]
  },
  {
   "cell_type": "code",
   "execution_count": null,
   "metadata": {},
   "outputs": [],
   "source": []
  },
  {
   "cell_type": "markdown",
   "metadata": {},
   "source": [
    "# Q-3\n",
    "Write a program in Python that lists the strings that make up the list \n",
    "l =[\"laptop\", \"iphone\", \"tablet\", \"printer\", \"Ipad\"]  \n",
    "\n",
    "1-get the length of each string.\n"
   ]
  },
  {
   "cell_type": "code",
   "execution_count": null,
   "metadata": {},
   "outputs": [],
   "source": []
  },
  {
   "cell_type": "markdown",
   "metadata": {},
   "source": [
    "# Q-4\n",
    "Write a program that asks the user to open a file and return all words beginning with the letter a."
   ]
  },
  {
   "cell_type": "code",
   "execution_count": null,
   "metadata": {},
   "outputs": [],
   "source": []
  },
  {
   "cell_type": "markdown",
   "metadata": {},
   "source": [
    "# Q-5\n",
    "Write a Python program to count the Uppercase characters within a given string. Example if s = \"Python Programming\", the program must returns 2."
   ]
  },
  {
   "cell_type": "code",
   "execution_count": null,
   "metadata": {},
   "outputs": [],
   "source": []
  },
  {
   "cell_type": "markdown",
   "metadata": {},
   "source": [
    "# Q-6\n",
    "Write a Python program that extract the list of all urls from given a string s. Example if s = \"You can use google https://www.google.com or facebook https://www.facebook.com\" The algorithm returns the list"
   ]
  },
  {
   "cell_type": "code",
   "execution_count": null,
   "metadata": {},
   "outputs": [],
   "source": []
  },
  {
   "cell_type": "markdown",
   "metadata": {},
   "source": [
    "# Q-7\n",
    "Write a Python program that creates from a keyboard-typed integer n, a dictionary whose keys are integers from 1 to n and key values are their squares. Example for n = 7 the dictionary will be of the form:\n",
    "{1: 1, 2: 4, 3: 9, 4:16, 5:25, 6:36, 7:49}"
   ]
  },
  {
   "cell_type": "code",
   "execution_count": null,
   "metadata": {},
   "outputs": [],
   "source": []
  },
  {
   "cell_type": "markdown",
   "metadata": {},
   "source": [
    "# Q-8\n",
    "The following dictionary contains a student's math scores:\n",
    "scores = {'score1' : 16, 'score2' : 14, 'score3' : 17}\n",
    "update the notes dictionary by adding the average of scores."
   ]
  },
  {
   "cell_type": "code",
   "execution_count": null,
   "metadata": {},
   "outputs": [],
   "source": []
  },
  {
   "cell_type": "markdown",
   "metadata": {},
   "source": [
    "# Q-9\n",
    "Write a function called digit_sum that takes a positive integer n as input and returns the sum of all that number's digits."
   ]
  },
  {
   "cell_type": "code",
   "execution_count": null,
   "metadata": {},
   "outputs": [],
   "source": []
  },
  {
   "cell_type": "markdown",
   "metadata": {},
   "source": [
    "# Q-10\n",
    "Write a function remove_duplicates that takes in a list and removes elements of the list that are the same.For example: remove_duplicates([1,1,2,2]) should return [1,2]."
   ]
  },
  {
   "cell_type": "code",
   "execution_count": null,
   "metadata": {},
   "outputs": [],
   "source": []
  }
 ],
 "metadata": {
  "kernelspec": {
   "display_name": "Python 3",
   "language": "python",
   "name": "python3"
  },
  "language_info": {
   "codemirror_mode": {
    "name": "ipython",
    "version": 3
   },
   "file_extension": ".py",
   "mimetype": "text/x-python",
   "name": "python",
   "nbconvert_exporter": "python",
   "pygments_lexer": "ipython3",
   "version": "3.8.5"
  }
 },
 "nbformat": 4,
 "nbformat_minor": 4
}
